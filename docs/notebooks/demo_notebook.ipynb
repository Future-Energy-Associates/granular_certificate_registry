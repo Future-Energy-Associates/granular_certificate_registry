{
 "cells": [
  {
   "cell_type": "markdown",
   "metadata": {},
   "source": [
    "### FEA GC Registry Demo Notebook\n",
    "\n",
    "This notebook walks the user through some common operations that may be performed against the registry, and will evolve as more features are added.\n",
    "\n",
    "Preliminary steps:\n",
    "* Follow the first few steps of the `README` to setup the poetry environment and make sure that the kernel of this notebook us using the venv created there \n",
    "* Run `make db.seed` in the terminal first to populate the database with GC bundles and example entities\n",
    "* Once you've built the registry images, run `docker compose up` in a terminal window. \n",
    "\n",
    "If at any point you want to restart your progress, you can run `make db.reset` to clear the database and then proceed from the steps above."
   ]
  },
  {
   "cell_type": "code",
   "execution_count": null,
   "metadata": {},
   "outputs": [],
   "source": [
    "import pandas as pd\n",
    "import datetime\n",
    "import httpx\n",
    "import logging.config\n",
    "\n",
    "from gc_registry.account.schemas import AccountBase\n",
    "from gc_registry.certificate.schemas import GranularCertificateQuery, GranularCertificateTransfer, GranularCertificateCancel\n",
    "from gc_registry.device.models import DeviceBase\n",
    "from gc_registry.core.models.base import DeviceTechnologyType, EnergySourceType\n",
    "\n",
    "pd.set_option('display.max_columns', None)\n",
    "pd.set_option('display.max_rows', None)"
   ]
  },
  {
   "cell_type": "markdown",
   "metadata": {},
   "source": [
    "There are quite a few middleware handlers in the FastAPI and HTTPX setup, so to declutter the notebook we disable most of them here so that only the relevant loggers are active. You can view to the HTTP logs in the terminal that the docker cluster is running in."
   ]
  },
  {
   "cell_type": "code",
   "execution_count": null,
   "metadata": {},
   "outputs": [],
   "source": [
    "client = httpx.Client(base_url=\"http://localhost:8000\")\n",
    "\n",
    "LOGGING_CONFIG = {\n",
    "    \"version\": 1,\n",
    "    \"handlers\": {\n",
    "        \"default\": {\n",
    "            \"class\": \"logging.StreamHandler\",\n",
    "            \"formatter\": \"http\",\n",
    "            \"stream\": \"ext://sys.stderr\"\n",
    "        }\n",
    "    },\n",
    "    \"formatters\": {\n",
    "        \"http\": {\n",
    "            \"format\": \"%(levelname)s [%(asctime)s] %(name)s - %(message)s\",\n",
    "            \"datefmt\": \"%Y-%m-%d %H:%M:%S\",\n",
    "        }\n",
    "    },\n",
    "    'loggers': {}\n",
    "}\n",
    "\n",
    "logging.config.dictConfig(LOGGING_CONFIG)"
   ]
  },
  {
   "cell_type": "markdown",
   "metadata": {},
   "source": [
    "### Creating a Account, and Device\n",
    "\n",
    "The seeding process will have created some user, account, and device entities automatically to allocate the GC bundles to; these can be viewed with get commands to the integer ID of those entities."
   ]
  },
  {
   "cell_type": "code",
   "execution_count": null,
   "metadata": {},
   "outputs": [],
   "source": [
    "user_from_db = client.get(\"user/1\")\n",
    "\n",
    "user_from_db.json()"
   ]
  },
  {
   "cell_type": "code",
   "execution_count": null,
   "metadata": {},
   "outputs": [],
   "source": [
    "account_from_db = client.get(\"account/1\")\n",
    "\n",
    "account_from_db.json()"
   ]
  },
  {
   "cell_type": "markdown",
   "metadata": {},
   "source": [
    "Entities can be created through the appropriate data model, ensuring that field validation is performed ahead of submission to the API. We're going to create another account that also belongs to the same user to demonstrate transfering GC bundles between accounts. "
   ]
  },
  {
   "cell_type": "code",
   "execution_count": null,
   "metadata": {},
   "outputs": [],
   "source": [
    "# This account whitelists the existing source account so that it in can receive GC bundles from it\n",
    "account = AccountBase(account_name=\"Target Account\", user_ids=[1], account_whitelist=[1])\n",
    "\n",
    "result = client.post(\"account/create\", data=account.model_dump_json())\n",
    "result.json()"
   ]
  },
  {
   "cell_type": "code",
   "execution_count": null,
   "metadata": {},
   "outputs": [],
   "source": [
    "device_from_db = client.get(\"device/1\")\n",
    "\n",
    "device_from_db.json()"
   ]
  },
  {
   "cell_type": "code",
   "execution_count": null,
   "metadata": {},
   "outputs": [],
   "source": [
    "device_dict = {\n",
    "    \"device_name\": \"fake_solar_device\",\n",
    "    \"grid\": \"fake_grid\",\n",
    "    \"energy_source\": EnergySourceType.solar_pv,\n",
    "    \"technology_type\": DeviceTechnologyType.solar_pv,\n",
    "    \"meter_data_id\": \"BMU-ABC\",\n",
    "    \"capacity\": 1000,\n",
    "    \"account_id\": 1,\n",
    "    \"fuel_source\": \"solar\",\n",
    "    \"location\": \"USA\",\n",
    "    \"operational_date\": pd.to_datetime(\"2020-01-01\"),\n",
    "    \"peak_demand\": 100,\n",
    "    \"is_storage\": False,\n",
    "    \"is_deleted\": False,\n",
    "}\n",
    "\n",
    "device = DeviceBase(**device_dict)\n",
    "\n",
    "result = client.post(\"device/create\", data=device.model_dump_json())\n",
    "result.json()"
   ]
  },
  {
   "cell_type": "markdown",
   "metadata": {},
   "source": [
    "### Querying Existing GC Bundles"
   ]
  },
  {
   "cell_type": "code",
   "execution_count": null,
   "metadata": {},
   "outputs": [],
   "source": [
    "# For display purposes, limit the columns to those we're interested in for now\n",
    "relevant_columns = [\"id\", \"issuance_id\", \"account_id\", \"device_id\", \"production_starting_interval\", \"certificate_bundle_id_range_start\", \"certificate_bundle_id_range_end\", \"bundle_quantity\", \"certificate_bundle_status\", \"is_deleted\"]"
   ]
  },
  {
   "cell_type": "markdown",
   "metadata": {},
   "source": [
    "Querying is handled through the `GranularCertificateQuery` object that contains fields against which GC bundles in a single account can be filtered. The workflow for subsequent actions requires that the bundle IDs are passed from a query into the action endpoint, to prevent the user performing actions blindly on certificates returned from a query whose results they can only see once the action has been performed."
   ]
  },
  {
   "cell_type": "code",
   "execution_count": null,
   "metadata": {},
   "outputs": [],
   "source": [
    "# The user ID must be included to make sure that the user has access to the target accounts. In practice, the user would be automatically filled\n",
    "# in on the backend by using the authenticated identity of the party making the request, rather than providing the ID as a parameter. \n",
    "gc_bundle_query = GranularCertificateQuery(\n",
    "    user_id=user_from_db.json()[\"id\"],\n",
    "    source_id=1,\n",
    "    device_id=1,\n",
    ")\n",
    "\n",
    "gc_bundles_from_query = client.post(\"certificate/query\", content=gc_bundle_query.model_dump_json())\n",
    "\n",
    "pd.DataFrame(gc_bundles_from_query.json()[\"granular_certificate_bundles\"])[relevant_columns].sort_values(\"production_starting_interval\")"
   ]
  },
  {
   "cell_type": "code",
   "execution_count": null,
   "metadata": {},
   "outputs": [],
   "source": [
    "# Let's narrow down a subset of certificates using a time range\n",
    "gc_bundle_query = GranularCertificateQuery(\n",
    "    user_id=user_from_db.json()[\"id\"],\n",
    "    source_id=1,\n",
    "    device_id=1,\n",
    "    certificate_period_start=datetime.datetime(2024, 1, 1, 5, 0, 0),\n",
    "    certificate_period_end=datetime.datetime(2024, 1, 1, 8, 0, 0)\n",
    ")\n",
    "\n",
    "gc_bundles_from_query = client.post(\"certificate/query\", data=gc_bundle_query.model_dump_json())\n",
    "\n",
    "pd.DataFrame(gc_bundles_from_query.json()[\"granular_certificate_bundles\"])[relevant_columns].sort_values(\"production_starting_interval\")"
   ]
  },
  {
   "cell_type": "markdown",
   "metadata": {},
   "source": [
    "### Transfering Bundles\n",
    "\n",
    "In this example, we're going to take the IDs of the bundles returned from the query above, and transfer half of each of these bundles to the target account we created earlier."
   ]
  },
  {
   "cell_type": "code",
   "execution_count": null,
   "metadata": {},
   "outputs": [],
   "source": [
    "transfer_action = GranularCertificateTransfer(\n",
    "    user_id=user_from_db.json()[\"id\"],\n",
    "    source_id=1,\n",
    "    target_id=2,\n",
    "    granular_certificate_bundle_ids = [6, 7, 8],\n",
    "    certificate_bundle_percentage=0.5\n",
    ")\n",
    "\n",
    "response = client.post(\"certificate/transfer\", data=transfer_action.model_dump_json())\n",
    "\n",
    "response.json()"
   ]
  },
  {
   "cell_type": "markdown",
   "metadata": {},
   "source": [
    "We can then view those transferred GC bundles in the target account. Note that the IDs have changed because these are new bundles that have been created by splitting the original target bundles."
   ]
  },
  {
   "cell_type": "code",
   "execution_count": null,
   "metadata": {},
   "outputs": [],
   "source": [
    "gc_bundle_query = GranularCertificateQuery(\n",
    "    user_id=user_from_db.json()[\"id\"],\n",
    "    source_id=2,\n",
    ")\n",
    "\n",
    "gc_bundles_from_query = client.post(\"certificate/query\", data=gc_bundle_query.model_dump_json())\n",
    "\n",
    "pd.DataFrame(gc_bundles_from_query.json()[\"granular_certificate_bundles\"])[relevant_columns].sort_values(\"production_starting_interval\")"
   ]
  },
  {
   "cell_type": "markdown",
   "metadata": {},
   "source": [
    "### Cancelling Bundles\n",
    "\n",
    "The target account can then select those bundles for cancellation using the same workflow as for transfer."
   ]
  },
  {
   "cell_type": "code",
   "execution_count": null,
   "metadata": {},
   "outputs": [],
   "source": [
    "gc_bundle_ids_to_cancel = pd.DataFrame(gc_bundles_from_query.json()[\"granular_certificate_bundles\"])[\"id\"].tolist()\n",
    "\n",
    "gc_cancel_action = GranularCertificateCancel(\n",
    "    user_id=user_from_db.json()[\"id\"],\n",
    "    source_id=2,\n",
    "    beneficiary=\"Future Energy Associates\",\n",
    "    granular_certificate_bundle_ids=gc_bundle_ids_to_cancel\n",
    ")\n",
    "\n",
    "response = client.post(\"certificate/cancel\", data=gc_cancel_action.model_dump_json())\n",
    "\n",
    "response.json()"
   ]
  },
  {
   "cell_type": "markdown",
   "metadata": {},
   "source": [
    "We can then view that these GC bundles have been cancelled by looking at their `certificate_bundle_status` fields."
   ]
  },
  {
   "cell_type": "code",
   "execution_count": null,
   "metadata": {},
   "outputs": [],
   "source": [
    "gc_bundle_query = GranularCertificateQuery(\n",
    "    user_id=user_from_db.json()[\"id\"],\n",
    "    source_id=2,\n",
    ")\n",
    "\n",
    "gc_bundles_from_query = client.post(\"certificate/query\", data=gc_bundle_query.model_dump_json())\n",
    "\n",
    "pd.DataFrame(gc_bundles_from_query.json()[\"granular_certificate_bundles\"])[relevant_columns].sort_values(\"production_starting_interval\")"
   ]
  }
 ],
 "metadata": {
  "kernelspec": {
   "display_name": ".venv",
   "language": "python",
   "name": "python3"
  },
  "language_info": {
   "codemirror_mode": {
    "name": "ipython",
    "version": 3
   },
   "file_extension": ".py",
   "mimetype": "text/x-python",
   "name": "python",
   "nbconvert_exporter": "python",
   "pygments_lexer": "ipython3",
   "version": "3.12.5"
  }
 },
 "nbformat": 4,
 "nbformat_minor": 2
}
